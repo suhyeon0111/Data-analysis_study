{
 "cells": [
  {
   "cell_type": "code",
   "execution_count": 2,
   "source": [
    "color_old = [\"red\", \"blue\", \"yellow\"]\r\n",
    "color_new = color_old + [\"black\"]\r\n",
    "print(color_old)    \r\n",
    "print(color_new)    \r\n",
    "color_new.append(\"pink\")\r\n",
    "print(color_new)    "
   ],
   "outputs": [
    {
     "output_type": "stream",
     "name": "stdout",
     "text": [
      "['red', 'blue', 'yellow']\n",
      "['red', 'blue', 'yellow', 'black']\n",
      "['red', 'blue', 'yellow', 'black', 'pink']\n"
     ]
    }
   ],
   "metadata": {}
  },
  {
   "cell_type": "code",
   "execution_count": 7,
   "source": [
    "list1 = [1,2,3]\r\n",
    "list2 = list[0:3]\r\n",
    "print(list1 is list2)\r\n",
    "print(id(list1), id(list2))\r\n",
    "\r\n",
    "tuple1 = (1,2,3)\r\n",
    "tuple2 = tuple[0:3] \r\n",
    "print(tuple1 is tuple2)\r\n",
    "print(id(tuple1), id(tuple2))\r\n"
   ],
   "outputs": [
    {
     "output_type": "stream",
     "name": "stdout",
     "text": [
      "False\n",
      "2051035676800 2051067159040\n",
      "False\n",
      "2051035677248 2051067236736\n"
     ]
    }
   ],
   "metadata": {}
  }
 ],
 "metadata": {
  "orig_nbformat": 4,
  "language_info": {
   "name": "python",
   "version": "3.9.1",
   "mimetype": "text/x-python",
   "codemirror_mode": {
    "name": "ipython",
    "version": 3
   },
   "pygments_lexer": "ipython3",
   "nbconvert_exporter": "python",
   "file_extension": ".py"
  },
  "kernelspec": {
   "name": "python3",
   "display_name": "Python 3.9.1 64-bit"
  },
  "interpreter": {
   "hash": "ac59ebe37160ed0dfa835113d9b8498d9f09ceb179beaac4002f036b9467c963"
  }
 },
 "nbformat": 4,
 "nbformat_minor": 2
}